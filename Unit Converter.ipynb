{
 "cells": [
  {
   "cell_type": "markdown",
   "metadata": {},
   "source": [
    "## Introduction\n",
    "In this notebook, we will create a Streamlit-based unit conversion tool.\n",
    "The tool allows users to convert between different units of Length, Area, and Digital Storage.\n",
    "\n",
    "## Defining Conversion Functions\n",
    "Before building the UI, let's define functions to convert between different units."
   ]
  },
  {
   "cell_type": "code",
   "execution_count": null,
   "metadata": {},
   "outputs": [],
   "source": [
    "def meters_to_feet(meters):\n",
    "    return meters * 3.28084\n",
    "\n",
    "def feet_to_meters(feet):\n",
    "    return feet / 3.28084\n",
    "\n",
    "def sq_meters_to_sq_feet(sq_meters):\n",
    "    return sq_meters * 10.7639\n",
    "\n",
    "def sq_feet_to_sq_meters(sq_feet):\n",
    "    return sq_feet / 10.7639\n",
    "\n",
    "def gb_to_mb(gb):\n",
    "    return gb * 1024\n",
    "\n",
    "def mb_to_gb(mb):\n",
    "    return mb / 1024"
   ]
  },
  {
   "cell_type": "markdown",
   "metadata": {},
   "source": [
    "## Building the Streamlit UI\n",
    "Now, we will create a simple user interface using Streamlit to select the type of measurement and perform conversions."
   ]
  },
  {
   "cell_type": "code",
   "execution_count": null,
   "metadata": {},
   "outputs": [],
   "source": [
    "st.title(\"Unit Converter\")"
   ]
  },
  {
   "cell_type": "markdown",
   "metadata": {},
   "source": [
    "## Step 1: Select Measurement Type\n",
    "The user selects the type of measurement they want to convert.\n",
    "\n",
    "Current selection: `option` = 'Length'"
   ]
  },
  {
   "cell_type": "code",
   "execution_count": null,
   "metadata": {},
   "outputs": [],
   "source": [
    "option = st.selectbox('Select a measurement type:', ('Length', 'Area', 'Digital Storage'))"
   ]
  },
  {
   "cell_type": "markdown",
   "metadata": {},
   "source": [
    "## Step 2: Select Conversion Type & Perform Calculation\n",
    "\n",
    "The user selects the conversion type based on the measurement type chosen in Step 1.\n",
    "\n",
    "Current selection: `option` = 'Length'"
   ]
  },
  {
   "cell_type": "code",
   "execution_count": null,
   "metadata": {},
   "outputs": [],
   "source": [
    "if option == 'Length':\n",
    "    conversion = st.selectbox('Select conversion:', ('Meters to Feet', 'Feet to Meters'))\n",
    "    if conversion == 'Meters to Feet':\n",
    "        value = st.number_input('Enter value in meters:', value=0.0, key='meters')\n",
    "        result = meters_to_feet(value)\n",
    "        st.write(f'{value} meters is equal to {result:.2f} feet')\n",
    "    else:\n",
    "        value = st.number_input('Enter value in feet:', value=0.0, key='feet')\n",
    "        result = feet_to_meters(value)\n",
    "        st.write(f'{value} feet is equal to {result:.2f} meters')\n",
    "\n",
    "elif option == 'Area':\n",
    "    conversion = st.selectbox('Select conversion:', ('Square Meters to Square Feet', 'Square Feet to Square Meters'))\n",
    "    if conversion == 'Square Meters to Square Feet':\n",
    "        value = st.number_input('Enter value in square meters:', value=0.0, key='sq_meters')\n",
    "        result = sq_meters_to_sq_feet(value)\n",
    "        st.write(f'{value} square meters is equal to {result:.2f} square feet')\n",
    "    else:\n",
    "        value = st.number_input('Enter value in square feet:', value=0.0, key='sq_feet')\n",
    "        result = sq_feet_to_sq_meters(value)\n",
    "        st.write(f'{value} square feet is equal to {result:.2f} square meters')\n",
    "\n",
    "elif option == 'Digital Storage':\n",
    "    conversion = st.selectbox('Select conversion:', ('Gigabytes to Megabytes', 'Megabytes to Gigabytes'))\n",
    "    if conversion == 'Gigabytes to Megabytes':\n",
    "        value = st.number_input('Enter value in gigabytes:', value=0.0, key='gb')\n",
    "        result = gb_to_mb(value)\n",
    "        st.write(f'{value} gigabytes is equal to {result:.2f} megabytes')\n",
    "    else:\n",
    "        value = st.number_input('Enter value in megabytes:', value=0.0, key='mb')\n",
    "        result = mb_to_gb(value)\n",
    "        st.write(f'{value} megabytes is equal to {result:.2f} gigabytes')"
   ]
  },
  {
   "cell_type": "markdown",
   "metadata": {},
   "source": [
    "## Conclusion\n",
    "In this notebook, we created a simple yet powerful unit conversion tool using Streamlit."
   ]
  }
 ],
 "metadata": {
  "kernelspec": {
   "display_name": "Python 3",
   "language": "python",
   "name": "python3"
  },
  "language_info": {
   "codemirror_mode": {
    "name": "ipython",
    "version": 3
   },
   "file_extension": ".py",
   "mimetype": "text/x-python",
   "name": "python",
   "nbconvert_exporter": "python",
   "pygments_lexer": "ipython3",
   "version": "3.13.2"
  }
 },
 "nbformat": 4,
 "nbformat_minor": 2
}
